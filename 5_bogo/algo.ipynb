{
 "metadata": {
  "language_info": {
   "codemirror_mode": {
    "name": "ipython",
    "version": 3
   },
   "file_extension": ".py",
   "mimetype": "text/x-python",
   "name": "python",
   "nbconvert_exporter": "python",
   "pygments_lexer": "ipython3",
   "version": "3.7.6-final"
  },
  "orig_nbformat": 2,
  "kernelspec": {
   "name": "python3",
   "display_name": "Python 3"
  }
 },
 "nbformat": 4,
 "nbformat_minor": 2,
 "cells": [
  {
   "cell_type": "code",
   "execution_count": 4,
   "metadata": {},
   "outputs": [
    {
     "output_type": "stream",
     "name": "stdout",
     "text": [
      "[1, 150, 159, 278, 361, 460, 596, 661, 716, 874]\n"
     ]
    }
   ],
   "source": [
    "from typing import List\n",
    "import random\n",
    "\n",
    "def comb_sort(numbers: List[int]) -> List[int]:\n",
    "    len_numbers = len(numbers)\n",
    "    gap = len_numbers\n",
    "    swapped = True\n",
    "\n",
    "    while gap != 1 or swapped:\n",
    "        gap = int(gap / 1.3)\n",
    "        if gap < 1:\n",
    "            gap = 1\n",
    "\n",
    "        swapped = False\n",
    "\n",
    "        for i in range(0, len_numbers - gap):\n",
    "            if numbers[i] > numbers[i + gap]:\n",
    "                numbers[i], numbers[i + gap] = numbers[i + gap], numbers[i]\n",
    "                swapped = True\n",
    "\n",
    "    return numbers\n",
    "\n",
    "# nums = [2, 9, 1, 8, 7 ,3, 5]\n",
    "nums = [random.randint(0, 1000) for i in range(10)]\n",
    "\n",
    "print(comb_sort(nums))"
   ]
  },
  {
   "cell_type": "code",
   "execution_count": 7,
   "metadata": {},
   "outputs": [
    {
     "output_type": "stream",
     "name": "stdout",
     "text": [
      "[351, 532, 539, 550, 601, 686, 773, 871, 908, 995]\n"
     ]
    }
   ],
   "source": [
    "from typing import List\n",
    "\n",
    "def selectioin_sort(numbers: List[int]) -> List[int]:\n",
    "    len_numbers = len(numbers)\n",
    "    for i in range(len_numbers):\n",
    "        min_idx = i\n",
    "        for j in range(i + 1, len_numbers):\n",
    "            if numbers[min_idx] > numbers[j]:\n",
    "                min_idx = j\n",
    "        numbers[i], numbers[min_idx] = numbers[min_idx], numbers[i]\n",
    "\n",
    "    return numbers\n",
    "\n",
    "\n",
    "nums = [random.randint(0, 1000) for i in range(10)]\n",
    "print(selectioin_sort(nums))"
   ]
  },
  {
   "cell_type": "code",
   "execution_count": 1,
   "metadata": {},
   "outputs": [
    {
     "output_type": "stream",
     "name": "stdout",
     "text": [
      "[87, 537, 811, 379, 306, 230, 853, 263, 861, 923]\n"
     ]
    }
   ],
   "source": [
    "from typing import List\n",
    "import random\n",
    "\n",
    "def gnome_sort(numbers: List[int]) -> List[int]:\n",
    "    len_numbers = len(numbers)\n",
    "    index = 0\n",
    "    while index < len_numbers:\n",
    "        if index == 0:\n",
    "            index += 1\n",
    "        if numbers[index] >= numbers[index-1]:\n",
    "            index += 1\n",
    "        else:\n",
    "            numbers[index], numbers[index-1] = numbers[index-1], numbers[index]\n",
    "            index -= - 1\n",
    "    return  numbers\n",
    "\n",
    "numbers = [random.randint(0,1000) for i in range(10)]\n",
    "print(gnome_sort(numbers))\n",
    "\n",
    "\n"
   ]
  },
  {
   "cell_type": "code",
   "execution_count": 13,
   "metadata": {},
   "outputs": [
    {
     "output_type": "stream",
     "name": "stdout",
     "text": [
      "[127, 129, 358, 525, 614, 690, 710, 751, 847, 882]\n"
     ]
    }
   ],
   "source": [
    "from typing import List\n",
    "import random\n",
    "\n",
    "def insertion_sort(numbers: List[int]) -> List[int]:\n",
    "    len_numbers = len(numbers)\n",
    "    for i in range(1, len_numbers):\n",
    "        tmp = numbers[i]\n",
    "        j = i - 1\n",
    "        while j >= 0 and numbers[j] > tmp:\n",
    "            numbers[j+1] = numbers[j]\n",
    "            j -= 1\n",
    "        \n",
    "        numbers[j+1] = tmp\n",
    "    \n",
    "    return numbers\n",
    "\n",
    "nums = [random.randint(0,1000) for i in range(10)]\n",
    "print(insertion_sort(nums))"
   ]
  },
  {
   "cell_type": "code",
   "execution_count": 22,
   "metadata": {},
   "outputs": [
    {
     "output_type": "stream",
     "name": "stdout",
     "text": [
      "[37, 93, 174, 191, 218, 702, 813, 854, 951, 975]\n"
     ]
    }
   ],
   "source": [
    "from typing import List\n",
    "import random\n",
    "\n",
    "def partition(numbers: List[int], low: int, high: int) -> int:\n",
    "    i = low - 1 \n",
    "    pivot = numbers[high]\n",
    "    for j in range(low, high):\n",
    "        if numbers[j] <= pivot:\n",
    "            i += 1\n",
    "            numbers[i], numbers[j] = numbers[j], numbers[i]\n",
    "    numbers[i+1], numbers[high] = numbers[high], numbers[i+1]\n",
    "    return i+1\n",
    "\n",
    "def quick_sort(numbers: List[int]) -> List[int]:\n",
    "    def _quick_sort(numbers: List[int], low: int, high: int) -> None:\n",
    "        if low < high:\n",
    "            partition_index = partition(numbers, low, high)\n",
    "            _quick_sort(numbers, low, partition_index-1)\n",
    "            _quick_sort(numbers, partition_index+1, high)\n",
    "\n",
    "    _quick_sort(numbers, 0, len(numbers)-1)\n",
    "    return numbers\n",
    "\n",
    "nums = [random.randint(0, 1000) for i in range(10)]\n",
    "print(quick_sort(nums))"
   ]
  },
  {
   "cell_type": "code",
   "execution_count": 3,
   "metadata": {},
   "outputs": [
    {
     "output_type": "stream",
     "name": "stdout",
     "text": [
      "[68, 68, 68, 68, 68, 68, 68, 68, 68, 876]\n"
     ]
    }
   ],
   "source": [
    "from typing import List\n",
    "import random\n",
    "\n",
    "def merge_sort(numbers: List[int]) -> List[int]:\n",
    "    # 各要素が１になった時には再起関数を抜ける\n",
    "    if len(numbers) <= 1:\n",
    "        return numbers\n",
    "    \n",
    "    center = len(numbers) // 2\n",
    "    left = numbers[:center]\n",
    "    right = numbers[:center]\n",
    "\n",
    "    merge_sort(left)\n",
    "    merge_sort(right)\n",
    "\n",
    "    \"\"\"\n",
    "    マージする時の片方の配列を管理するindexが = i\n",
    "    マージする時のもう一方を管理するindexが = j\n",
    "    マージ後の配列を管理するindexが = k\n",
    "    となる\n",
    "    \"\"\"\n",
    "\n",
    "    i = j = k = 0\n",
    "    while i < len(left) and j < len(right):\n",
    "        # leftの値とrightの値を比較した時にleftが小さければleftの値を入れ、rightの値が小さければrightの値を入れるようにする\n",
    "        if left[i] <= right[j]:\n",
    "            numbers[k] = numbers[i]\n",
    "            i += 1\n",
    "        else:\n",
    "            numbers[k] = numbers[j]\n",
    "            j += 1\n",
    "        k += 1\n",
    "\n",
    "    while i < len(left):\n",
    "        numbers[k] = left[i]\n",
    "        i += 1\n",
    "        k += 1\n",
    "\n",
    "    while j < len(right):\n",
    "        numbers[k] = right[j]\n",
    "        j += 1\n",
    "        k += 1\n",
    "\n",
    "    return numbers\n",
    "\n",
    "\n",
    "nums = [random.randint(0, 1000) for i in range(10)]\n",
    "print(merge_sort(nums))"
   ]
  },
  {
   "cell_type": "code",
   "execution_count": 16,
   "metadata": {},
   "outputs": [
    {
     "output_type": "stream",
     "name": "stdout",
     "text": [
      "4\n4\n4\n"
     ]
    }
   ],
   "source": [
    "from typing import List, NewType\n",
    "import random\n",
    "\n",
    "IndexNum = NewType('IndexNum', int)\n",
    "\n",
    "def linear_search(numbers: List[int], value: int) -> IndexNum:\n",
    "    for i in range(0, len(numbers)):\n",
    "        if numbers[i] == value:\n",
    "            return i\n",
    "\n",
    "    return -1\n",
    "\n",
    "def binary_search(numbers: List[int], value: int) -> IndexNum:\n",
    "    left, right = 0, len(numbers) -1\n",
    "    while left <= right:\n",
    "        mid = (left + right) // 2\n",
    "        if numbers[mid] == value:\n",
    "            return mid\n",
    "        elif numbers[mid] < value:\n",
    "            left = mid + 1\n",
    "        else:\n",
    "            right = mid - 1\n",
    "    return -1\n",
    "\n",
    "def binary_search_recursive(numbers: List[int], value: int) -> IndexNum:\n",
    "    def _binary_search(numbers: List[int], value: int, left: IndexNum, right: IndexNum) -> IndexNum:\n",
    "        if left > right:\n",
    "            return -1\n",
    "\n",
    "        mid = (left + right) // 2\n",
    "        if numbers[mid] == value:\n",
    "            return mid\n",
    "        elif numbers[mid]< value:\n",
    "            return _binary_search(numbers, value, mid + 1, right)\n",
    "        else:\n",
    "            return _binary_search(numbers, value, left, mid - 1)\n",
    "    return _binary_search(numbers, value, 0, len(numbers) - 1)\n",
    "\n",
    "# nums = [random.randint(0, 1000) for i in range(10)]\n",
    "ordered_nums = [1, 23, 123, 124, 145, 168, 333, 678, 990, 1001]\n",
    "nums = [1, 12, 53, 62, 23, 61, 15, 91, 99, 100, 102, 2, 124, 123, 13333, 141]\n",
    "print(binary_search(ordered_nums, 145))\n",
    "print(binary_search(ordered_nums, 145)) \n",
    "print(binary_search_recursive(ordered_nums, 145)) \n",
    " "
   ]
  },
  {
   "cell_type": "code",
   "execution_count": 18,
   "metadata": {},
   "outputs": [
    {
     "output_type": "stream",
     "name": "stdout",
     "text": [
      "4\n"
     ]
    }
   ],
   "source": [
    "from typing import List\n",
    "\n",
    "def binary_serch(numbers: List[int], value: int) -> int:\n",
    "    left, right = 0, len(numbers) - 1\n",
    "    mid = (left + right) // 2\n",
    "\n",
    "    while left <= right:\n",
    "        if numbers[mid] == value:\n",
    "            return value\n",
    "        elif value < numbers[mid]:\n",
    "            right = mid + 1\n",
    "        else:\n",
    "            left = mid - 1\n",
    "    return -1\n",
    "\n",
    "\n",
    "\n",
    "ordered_nums = [1, 23, 123, 124, 145, 168, 333, 678, 990, 1001]\n",
    "print(binary_search(ordered_nums, 145))"
   ]
  },
  {
   "cell_type": "code",
   "execution_count": null,
   "metadata": {},
   "outputs": [],
   "source": []
  },
  {
   "cell_type": "code",
   "execution_count": 1,
   "metadata": {},
   "outputs": [
    {
     "output_type": "error",
     "ename": "SyntaxError",
     "evalue": "from __future__ imports must occur at the beginning of the file (<ipython-input-1-8a0358b8be26>, line 4)",
     "traceback": [
      "\u001b[0;36m  File \u001b[0;32m\"<ipython-input-1-8a0358b8be26>\"\u001b[0;36m, line \u001b[0;32m4\u001b[0m\n\u001b[0;31m    class Node(object):\u001b[0m\n\u001b[0m           ^\u001b[0m\n\u001b[0;31mSyntaxError\u001b[0m\u001b[0;31m:\u001b[0m from __future__ imports must occur at the beginning of the file\n"
     ]
    }
   ],
   "source": [
    "from __future__ import annotation\n",
    "from typimg import Any\n",
    "\n",
    "class Node(object):\n",
    "    def __init__(self, data: Any, next_node: Node = none):\n",
    "        self.data = data\n",
    "        self.next = nedt_node\n",
    "    \n",
    "class LinkedList(object):\n",
    "    def __init__(self, head=None) -> None:\n",
    "        self.head = head\n",
    "\n",
    "    def append(self, data: Any) -> None:\n",
    "        new_node = Node(data)\n",
    "        if self.head is None:\n",
    "            self.head = new_node\n",
    "            return\n",
    "        \n",
    "        last_node = self.head\n",
    "        while last_node.next:\n",
    "            last_node = last_node.next\n",
    "        last_node.next = new_node\n",
    "\n",
    "    def insert(self, data: Any) -> None:\n",
    "        new_node = Node(data)\n",
    "        new_node.next = self.head\n",
    "        self.head = new_node  \n",
    "\n",
    "l = LinkedList()\n",
    "l.append(1)\n",
    "print(l.head.data)"
   ]
  },
  {
   "cell_type": "code",
   "execution_count": null,
   "metadata": {},
   "outputs": [],
   "source": [
    "   "
   ]
  }
 ]
}