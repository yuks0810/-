{
 "metadata": {
  "language_info": {
   "codemirror_mode": {
    "name": "ipython",
    "version": 3
   },
   "file_extension": ".py",
   "mimetype": "text/x-python",
   "name": "python",
   "nbconvert_exporter": "python",
   "pygments_lexer": "ipython3",
   "version": "3.7.6-final"
  },
  "orig_nbformat": 2,
  "kernelspec": {
   "name": "python3",
   "display_name": "Python 3"
  }
 },
 "nbformat": 4,
 "nbformat_minor": 2,
 "cells": [
  {
   "cell_type": "code",
   "execution_count": 40,
   "metadata": {},
   "outputs": [
    {
     "output_type": "stream",
     "name": "stdout",
     "text": [
      "[15, 21, 27, 34, 65, 69, 72, 73, 78, 88, 88]\n509.20022299299944\n"
     ]
    }
   ],
   "source": [
    "import random\n",
    "import time\n",
    "\n",
    "time_sta = time.perf_counter()\n",
    "\n",
    "# def in_order(numbers):\n",
    "#     for i in range(len(numbers) - 1):\n",
    "#         if numbers[i] > numbers[i+1]:\n",
    "#             return False\n",
    "#     return True\n",
    "\n",
    "def in_order(numbers: list) -> bool:\n",
    "    return all(numbers[i] <= numbers[i + 1] for i in range(len(numbers) - 1))\n",
    "\n",
    "def bogo_sort(numbers: list) -> list:\n",
    "    while not in_order(numbers):\n",
    "        random.shuffle(numbers)\n",
    "    return numbers\n",
    "\n",
    "if __name__ == '__main__':\n",
    "    nums = [random.randint(0, 100) for _ in range(11)]\n",
    "    print(bogo_sort(nums))\n",
    "\n",
    "\n",
    "\n",
    "time_end = time.perf_counter()\n",
    "tim = time_end - time_sta\n",
    "print(tim)"
   ]
  },
  {
   "cell_type": "code",
   "execution_count": 58,
   "metadata": {},
   "outputs": [
    {
     "output_type": "stream",
     "name": "stdout",
     "text": [
      "[64, 181, 228, 335, 360, 377, 500, 627, 883, 909]\n0.00043242100036877673\n"
     ]
    }
   ],
   "source": [
    "from typing import List\n",
    "import time\n",
    "\n",
    "time_sta = time.perf_counter()\n",
    "\n",
    "def bubble_sort(numbers: List) -> List:\n",
    "    len_numbers = len(numbers)\n",
    "    for i in range(len_numbers):\n",
    "        for j in range(len_numbers - 1 - i):\n",
    "            if numbers[j] > numbers[j + 1]:\n",
    "                numbers[j], numbers[j + 1] = numbers[j + 1], numbers[j]\n",
    "    print(numbers)\n",
    "\n",
    "if __name__ == '__main__':\n",
    "    import random\n",
    "    arry = [random.randint(0, 1000) for i in range(10)]\n",
    "    bubble_sort(arry)\n",
    "\n",
    "time_end = time.perf_counter()\n",
    "tim = time_end - time_sta\n",
    "print(tim)"
   ]
  },
  {
   "cell_type": "code",
   "execution_count": 73,
   "metadata": {},
   "outputs": [
    {
     "output_type": "stream",
     "name": "stdout",
     "text": [
      "[0, 5, 36, 44, 53, 55, 68, 83, 84, 96]\n"
     ]
    }
   ],
   "source": [
    "from typing import List\n",
    "\n",
    "def cocktail_sort(numbers: List[int]) -> List[int]:\n",
    "    len_numbers = len(numbers)\n",
    "    swapped = True\n",
    "    start = 0\n",
    "    end = len_numbers - 1\n",
    "    \n",
    "    while swapped:\n",
    "        swapped = False\n",
    "        # 右方向に進むときの for loop\n",
    "        for i in range(start, end):\n",
    "            if numbers[i] > numbers[i+1]:\n",
    "                numbers[i], numbers[i+1] = numbers[i+1], numbers[i]\n",
    "                swapped = True\n",
    "        \n",
    "        # swappが変更されなければfalseのままなのでここで処理が終了\n",
    "        if not swapped:\n",
    "            break\n",
    "\n",
    "        swapped = False\n",
    "        end = end - 1\n",
    "\n",
    "        for i in range(end-1, start-1, -1):\n",
    "            if numbers[i] > numbers[i+1]:\n",
    "                numbers[i], numbers[i+1] = numbers[i+1], numbers[i]\n",
    "                swapped = True\n",
    "\n",
    "        start = start + 1\n",
    "    \n",
    "    return numbers\n",
    "\n",
    "\n",
    "import random\n",
    "arry = [random.randint(0, 100) for i in range(10)]\n",
    "print(cocktail_sort(arry))"
   ]
  },
  {
   "cell_type": "code",
   "execution_count": null,
   "metadata": {},
   "outputs": [],
   "source": []
  },
  {
   "cell_type": "code",
   "execution_count": null,
   "metadata": {},
   "outputs": [],
   "source": []
  }
 ]
}